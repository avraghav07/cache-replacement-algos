{
  "nbformat": 4,
  "nbformat_minor": 0,
  "metadata": {
    "colab": {
      "name": "Logistic Regression(without regularisation)",
      "provenance": [],
      "collapsed_sections": [],
      "include_colab_link": true
    },
    "kernelspec": {
      "name": "python3",
      "display_name": "Python 3"
    },
    "language_info": {
      "name": "python"
    }
  },
  "cells": [
    {
      "cell_type": "markdown",
      "metadata": {
        "id": "view-in-github",
        "colab_type": "text"
      },
      "source": [
        "<a href=\"https://colab.research.google.com/github/avraghav07/cache-replacement-algos/blob/main/Logistic_Regression(without_regularisation).ipynb\" target=\"_parent\"><img src=\"https://colab.research.google.com/assets/colab-badge.svg\" alt=\"Open In Colab\"/></a>"
      ]
    },
    {
      "cell_type": "code",
      "source": [
        "import cvxpy as cp\n",
        "import numpy as np\n",
        "import matplotlib.pyplot as plt"
      ],
      "metadata": {
        "id": "kEml5fj6J8VS"
      },
      "execution_count": null,
      "outputs": []
    },
    {
      "cell_type": "code",
      "source": [
        "def sigmoid(z):\n",
        "  return 1/(1 + np.exp(-z))"
      ],
      "metadata": {
        "id": "4XT90pXMLRBw"
      },
      "execution_count": null,
      "outputs": []
    },
    {
      "cell_type": "code",
      "source": [
        "## dataset\n",
        "n=100\n",
        "m=100\n",
        "beta_true = np.array([1, 0.5, -0.5] + [0]*(n - 3))\n",
        "print(beta_true.shape)\n",
        "a=np.random.random(1)\n",
        "X = (np.random.random((m, n))-0.5 )*10\n",
        "Y = np.round(sigmoid(X@beta_true+a  + np.random.randn(m)*0.5))\n",
        "\n",
        "X_test = (np.random.random((2*m, n))-0.5 )*10\n",
        "Y_test = np.round(sigmoid(X_test @ beta_true +a+ np.random.randn(2*m)*0.5))"
      ],
      "metadata": {
        "colab": {
          "base_uri": "https://localhost:8080/"
        },
        "id": "QH_l9l4kKLMI",
        "outputId": "6a0ed4c1-1f23-4ccb-84d0-23c9f733fc31"
      },
      "execution_count": null,
      "outputs": [
        {
          "output_type": "stream",
          "name": "stdout",
          "text": [
            "(100,)\n"
          ]
        }
      ]
    },
    {
      "cell_type": "code",
      "source": [
        "def error(scores, labels):\n",
        "  scores[scores > 0] = 1\n",
        "  scores[scores <= 0] = 0\n",
        "  return np.sum(np.abs(scores - labels)) / float(np.size(labels))"
      ],
      "metadata": {
        "id": "NL9hhhGlsYks"
      },
      "execution_count": null,
      "outputs": []
    },
    {
      "cell_type": "code",
      "source": [
        "beta=cp.Variable((n))\n",
        "b=cp.Variable(1)\n",
        "log_likelihood = cp.sum(cp.multiply(Y, X @ beta+b) - cp.logistic(X @ beta+b))\n",
        "problem = cp.Problem(cp.Maximize(log_likelihood/m ))\n",
        "problem.solve()\n",
        "beta=beta.value\n",
        "b=b.value\n",
        "train_error_lm = error( (X @ beta+b), Y)\n",
        "test_error_lm = error( (X_test @ beta+b), Y_test)"
      ],
      "metadata": {
        "id": "8N07tN_vzmFI"
      },
      "execution_count": null,
      "outputs": []
    },
    {
      "cell_type": "code",
      "source": [
        "print(train_error_lm)\n",
        "print(test_error_lm)"
      ],
      "metadata": {
        "id": "KSexoP7Fo10v",
        "outputId": "48d47dd5-dc97-4f3b-926a-ef5bfbef8244",
        "colab": {
          "base_uri": "https://localhost:8080/"
        }
      },
      "execution_count": null,
      "outputs": [
        {
          "output_type": "stream",
          "name": "stdout",
          "text": [
            "0.0 0.0\n",
            "0.385 0.385\n"
          ]
        }
      ]
    },
    {
      "cell_type": "markdown",
      "source": [
        "In case of High Dimensional data, the training error is very low but the test error is significatnly higher which is an indicaiton of over fitting."
      ],
      "metadata": {
        "id": "kWmxPIJSjzCE"
      }
    }
  ]
}